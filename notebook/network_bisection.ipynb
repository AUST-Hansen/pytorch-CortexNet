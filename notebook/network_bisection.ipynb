{
 "cells": [
  {
   "cell_type": "code",
   "execution_count": null,
   "metadata": {
    "collapsed": false
   },
   "outputs": [],
   "source": [
    "import torch\n",
    "import torchvision\n",
    "from torch.autograd import Variable as V\n",
    "from visualize import make_dot"
   ]
  },
  {
   "cell_type": "code",
   "execution_count": null,
   "metadata": {
    "collapsed": true
   },
   "outputs": [],
   "source": [
    "resnet_18 = torchvision.models.resnet18(pretrained=True)\n",
    "resnet_18.eval();"
   ]
  },
  {
   "cell_type": "code",
   "execution_count": null,
   "metadata": {
    "collapsed": true
   },
   "outputs": [],
   "source": [
    "x = V(torch.randn(1, 3, 224, 224))#, volatile=True)\n",
    "h_x = resnet_18.forward(x)"
   ]
  },
  {
   "cell_type": "code",
   "execution_count": null,
   "metadata": {
    "collapsed": false
   },
   "outputs": [],
   "source": [
    "dot = make_dot(h_x)\n",
    "dot.render('net.dot')\n",
    "# dot  # uncomment for displaying the graph"
   ]
  },
  {
   "cell_type": "code",
   "execution_count": null,
   "metadata": {
    "collapsed": false
   },
   "outputs": [],
   "source": [
    "print(h_x.creator)\n",
    "print(type(h_x.creator.previous_functions))\n",
    "print(len(h_x.creator.previous_functions))\n",
    "print('---')\n",
    "for a, b in enumerate(h_x.creator.previous_functions): print(a, '-->', b)\n",
    "print('---')\n",
    "last_view = h_x.creator.previous_functions[0][0]"
   ]
  },
  {
   "cell_type": "code",
   "execution_count": null,
   "metadata": {
    "collapsed": false
   },
   "outputs": [],
   "source": [
    "handle = last_view.register_forward_hook(lambda: print('running forward'))"
   ]
  },
  {
   "cell_type": "code",
   "execution_count": null,
   "metadata": {
    "collapsed": false
   },
   "outputs": [],
   "source": [
    "print(resnet_18)"
   ]
  },
  {
   "cell_type": "code",
   "execution_count": null,
   "metadata": {
    "collapsed": false
   },
   "outputs": [],
   "source": [
    "last_pool = last_view.previous_functions[0][0]\n",
    "type(last_pool)"
   ]
  },
  {
   "cell_type": "code",
   "execution_count": null,
   "metadata": {
    "collapsed": false
   },
   "outputs": [],
   "source": [
    "resnet_18._modules.keys()"
   ]
  },
  {
   "cell_type": "code",
   "execution_count": null,
   "metadata": {
    "collapsed": true
   },
   "outputs": [],
   "source": [
    "avgpool_layer = resnet_18._modules.get('avgpool')"
   ]
  },
  {
   "cell_type": "code",
   "execution_count": null,
   "metadata": {
    "collapsed": false
   },
   "outputs": [],
   "source": [
    "h = avgpool_layer.register_forward_hook(\n",
    "        lambda m,i,o: \\\n",
    "        print(\n",
    "            '\\nm:', type(m),\n",
    "            '\\ni:', type(i),\n",
    "                '\\n   len:', len(i),\n",
    "                '\\n   type:', type(i[0]),\n",
    "                '\\n   data size:', i[0].data.size(),\n",
    "                '\\n   data type:', i[0].data.type(),\n",
    "            '\\no:', type(o),\n",
    "                '\\n   data size:', o.data.size(),\n",
    "                '\\n   data type:', o.data.type(),\n",
    "        )\n",
    ")"
   ]
  },
  {
   "cell_type": "code",
   "execution_count": null,
   "metadata": {
    "collapsed": false
   },
   "outputs": [],
   "source": [
    "h_x = resnet_18(x)"
   ]
  },
  {
   "cell_type": "code",
   "execution_count": null,
   "metadata": {
    "collapsed": true
   },
   "outputs": [],
   "source": [
    "h.remove()"
   ]
  },
  {
   "cell_type": "code",
   "execution_count": null,
   "metadata": {
    "collapsed": false
   },
   "outputs": [],
   "source": [
    "my_embedding = torch.zeros(512)\n",
    "h = avgpool_layer.register_forward_hook(\n",
    "        lambda m,i,o: my_embedding.copy_(o.data)\n",
    ")\n",
    "h_x = resnet_18(x)\n",
    "h.remove()"
   ]
  },
  {
   "cell_type": "code",
   "execution_count": null,
   "metadata": {
    "collapsed": true
   },
   "outputs": [],
   "source": [
    "avgpool_layer."
   ]
  }
 ],
 "metadata": {
  "kernelspec": {
   "display_name": "Python 3",
   "language": "python",
   "name": "python3"
  },
  "language_info": {
   "codemirror_mode": {
    "name": "ipython",
    "version": 3
   },
   "file_extension": ".py",
   "mimetype": "text/x-python",
   "name": "python",
   "nbconvert_exporter": "python",
   "pygments_lexer": "ipython3",
   "version": "3.5.2"
  }
 },
 "nbformat": 4,
 "nbformat_minor": 0
}
