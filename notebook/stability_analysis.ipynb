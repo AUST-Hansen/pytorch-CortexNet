{
 "cells": [
  {
   "cell_type": "code",
   "execution_count": null,
   "metadata": {
    "collapsed": true
   },
   "outputs": [],
   "source": [
    "# import modules\n",
    "import skvideo.io\n",
    "import numpy as np"
   ]
  },
  {
   "cell_type": "code",
   "execution_count": null,
   "metadata": {
    "collapsed": true
   },
   "outputs": [],
   "source": [
    "# matplotlib and stuff\n",
    "import matplotlib.pyplot as plt\n",
    "from matplotlib import rc\n",
    "%matplotlib inline\n",
    "\n",
    "# configurations for dark background\n",
    "plt.style.use(['dark_background', 'bmh'])\n",
    "\n",
    "# configuration for bright background\n",
    "# plt.style.use('bmh')\n",
    "\n",
    "# remove background colour, set figure size\n",
    "rc('figure', figsize=(16, 8), facecolor='none')\n",
    "rc('axes', facecolor='none')"
   ]
  },
  {
   "cell_type": "code",
   "execution_count": null,
   "metadata": {
    "collapsed": false
   },
   "outputs": [],
   "source": [
    "# define video file name\n",
    "video_file_name = '/media/atcold/VIDEODATA/video-dataset/data/car/20160706_180451.mp4'\n",
    "\n",
    "# create an iterator over the video frames\n",
    "frame_iterator = skvideo.io.vreader(video_file_name)\n",
    "\n",
    "# load the whole video\n",
    "video_data = skvideo.io.vread(video_file_name)\n",
    "\n",
    "# print video_data shape\n",
    "print('The video_data has shape:', video_data.shape)"
   ]
  },
  {
   "cell_type": "code",
   "execution_count": null,
   "metadata": {
    "collapsed": false
   },
   "outputs": [],
   "source": [
    "# display N frames: 1st, ..., ..., last\n",
    "def showSamples(data, N=4, height=12):\n",
    "    rows = np.floor(N ** 0.5)\n",
    "    columns = N / rows\n",
    "    for p in range(0, N):\n",
    "        plt.subplot(rows, columns, p + 1)\n",
    "        idx = p * (data.shape[0] - 1) // (N - 1) if N > 1 else 0\n",
    "        plt.imshow(data[idx])\n",
    "        plt.axis('off')\n",
    "    plt.subplots_adjust(left=0, bottom=0, right=1, top=1, wspace=0, hspace=0)\n",
    "    s = data.shape\n",
    "    plt.gcf().set_size_inches((height*s[2]/s[1]/rows, height/columns))\n",
    "    \n",
    "showSamples(video_data)"
   ]
  },
  {
   "cell_type": "code",
   "execution_count": null,
   "metadata": {
    "collapsed": false
   },
   "outputs": [],
   "source": [
    "import os\n",
    "\n",
    "# get classes\n",
    "classes_file_name = 'synset_words.txt'\n",
    "if not os.access(classes_file_name, os.W_OK):\n",
    "    synset_URL = 'https://github.com/szagoruyko/functional-zoo/raw/master/synset_words.txt'\n",
    "    os.system('wget ' + synset_URL)\n",
    "\n",
    "classes = list()\n",
    "with open(classes_file_name) as f:\n",
    "    for line in f:\n",
    "        classes.append(line.strip().split(' ', 1)[1].split(', ')[0])\n",
    "classes = tuple(classes)"
   ]
  },
  {
   "cell_type": "code",
   "execution_count": null,
   "metadata": {
    "collapsed": false
   },
   "outputs": [],
   "source": [
    "# print first 5 classes and indeces\n",
    "for i in range(0, 5):\n",
    "    print(i, classes[i])"
   ]
  },
  {
   "cell_type": "code",
   "execution_count": null,
   "metadata": {
    "collapsed": false
   },
   "outputs": [],
   "source": [
    "from torchvision import transforms as trn\n",
    "\n",
    "# define image transformation\n",
    "pre_proc = trn.Compose([\n",
    "        trn.ToPILImage(),\n",
    "        trn.Scale(256),\n",
    "        trn.CenterCrop(224),\n",
    "        trn.ToTensor(),\n",
    "        trn.Normalize([0.485, 0.456, 0.406], [0.229, 0.224, 0.225])\n",
    "])"
   ]
  },
  {
   "cell_type": "code",
   "execution_count": null,
   "metadata": {
    "collapsed": false
   },
   "outputs": [],
   "source": [
    "from torchvision import models\n",
    "\n",
    "# get network\n",
    "resnet_18 = models.resnet18(pretrained=True)\n",
    "resnet_18.eval();"
   ]
  },
  {
   "cell_type": "code",
   "execution_count": null,
   "metadata": {
    "collapsed": false
   },
   "outputs": [],
   "source": [
    "from torch.autograd import Variable as V\n",
    "from torch.nn.functional import softmax\n",
    "\n",
    "# forward first frame\n",
    "x = V(pre_proc(video_data[0]).unsqueeze(0), volatile=True)\n",
    "logit = resnet_18(x)\n",
    "h_x = softmax(logit).data.squeeze()"
   ]
  },
  {
   "cell_type": "code",
   "execution_count": null,
   "metadata": {
    "collapsed": false
   },
   "outputs": [],
   "source": [
    "# probability dist. of first frame\n",
    "plt.stem(np.arange(len(h_x)), h_x.numpy())\n",
    "plt.grid('on')"
   ]
  },
  {
   "cell_type": "code",
   "execution_count": null,
   "metadata": {
    "collapsed": false,
    "scrolled": true
   },
   "outputs": [],
   "source": [
    "# print names of 6 most likely predictions and returns their indeces\n",
    "def disp_top_n_classes(p, N=5):\n",
    "    probs, idx = p.sort(0, True)\n",
    "    for i in range(0, N):\n",
    "        print('{:.3f} -> {}'.format(probs[i], classes[idx[i]]))\n",
    "    return idx[:N]\n",
    "disp_top_n_classes(h_x, 6);"
   ]
  },
  {
   "cell_type": "code",
   "execution_count": null,
   "metadata": {
    "collapsed": false
   },
   "outputs": [],
   "source": [
    "import torch\n",
    "from ipywidgets import FloatProgress\n",
    "from IPython.display import display\n",
    "\n",
    "# compute probabilities for all frames\n",
    "frames_nb = video_data.shape[0]\n",
    "prg_bar = FloatProgress(min=0, max=frames_nb); display(prg_bar)\n",
    "prob_mat = torch.Tensor(frames_nb, len(classes))\n",
    "for idx in range(0, frames_nb):\n",
    "    x = V(pre_proc(video_data[idx]).unsqueeze(0), volatile=True)\n",
    "    logit = resnet_18(x)\n",
    "    h_x = softmax(logit).data.squeeze()\n",
    "    prob_mat[idx].copy_(h_x)\n",
    "    prg_bar.value += 1"
   ]
  },
  {
   "cell_type": "code",
   "execution_count": null,
   "metadata": {
    "collapsed": false
   },
   "outputs": [],
   "source": [
    "# get best N average classes\n",
    "nb_classes = 5\n",
    "video_mean_prob = prob_mat.mean(dim=0).squeeze()\n",
    "top_n_ind = disp_top_n_classes(h_x, 5)\n",
    "top_n_classes = prob_mat.index_select(1, top_n_ind)\n",
    "# and plot them\n",
    "plt.plot(top_n_classes.numpy())\n",
    "plt.legend([classes[idx] for idx in top_n_ind], loc='upper left');"
   ]
  },
  {
   "cell_type": "code",
   "execution_count": null,
   "metadata": {
    "collapsed": false
   },
   "outputs": [],
   "source": [
    "%%HTML\n",
    "\n",
    "<video width=\"320\" controls>\n",
    "    <source src=\"20160706_180451.mp4\" type=\"video/mp4\">\n",
    "</video>"
   ]
  },
  {
   "cell_type": "code",
   "execution_count": null,
   "metadata": {
    "collapsed": true
   },
   "outputs": [],
   "source": [
    "# from network_bisection notebook, emb_size: 512\n",
    "\n",
    "# uncomment to display the network graph\n",
    "# from utils.visualize import make_dot\n",
    "# make_dot(h_x)\n",
    "\n",
    "# uncomment to print and inspect the network object\n",
    "# print(resnet_18)"
   ]
  },
  {
   "cell_type": "code",
   "execution_count": null,
   "metadata": {
    "collapsed": false
   },
   "outputs": [],
   "source": [
    "# get embeddings for current video\n",
    "\n",
    "my_embedding = torch.zeros(frames_nb, 512)\n",
    "def fun(m, i, o):\n",
    "    if not hasattr(fun, 'i'): fun.i = 0\n",
    "    my_embedding[fun.i].copy_(o.data)\n",
    "    fun.i += 1\n",
    "avgpool_layer = resnet_18._modules.get('avgpool')\n",
    "h = avgpool_layer.register_forward_hook(fun)\n",
    "prg_bar = FloatProgress(min=0, max=frames_nb); display(prg_bar)\n",
    "for idx in range(0, frames_nb):\n",
    "    x = V(pre_proc(video_data[idx]).unsqueeze(0), volatile=True)\n",
    "    logit = resnet_18(x)\n",
    "    prg_bar.value += 1\n",
    "h.remove()"
   ]
  },
  {
   "cell_type": "code",
   "execution_count": null,
   "metadata": {
    "collapsed": false
   },
   "outputs": [],
   "source": [
    "my_embedding_np = my_embedding.numpy()\n",
    "my_embedding"
   ]
  },
  {
   "cell_type": "code",
   "execution_count": null,
   "metadata": {
    "collapsed": false
   },
   "outputs": [],
   "source": [
    "# my current embedding collection is 363 x 512\n",
    "# there are 363 samples and 512 features\n",
    "# the covariance matrix is therefore singular...\n",
    "\n",
    "# from matplotlib.mlab import PCA\n",
    "\n",
    "# pca = PCA(my_embedding_np)"
   ]
  }
 ],
 "metadata": {
  "kernelspec": {
   "display_name": "Python [default]",
   "language": "python",
   "name": "python3"
  },
  "language_info": {
   "codemirror_mode": {
    "name": "ipython",
    "version": 3
   },
   "file_extension": ".py",
   "mimetype": "text/x-python",
   "name": "python",
   "nbconvert_exporter": "python",
   "pygments_lexer": "ipython3",
   "version": "3.5.2"
  },
  "widgets": {
   "state": {
    "44fe8f73917043aaa2a138a8bd4adf6f": {
     "views": [
      {
       "cell_index": 15
      }
     ]
    },
    "c01b5fb099c942bcba6bc9fe811fd66b": {
     "views": [
      {
       "cell_index": 11
      }
     ]
    }
   },
   "version": "1.2.0"
  }
 },
 "nbformat": 4,
 "nbformat_minor": 0
}
